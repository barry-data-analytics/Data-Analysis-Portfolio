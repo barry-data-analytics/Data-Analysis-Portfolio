{
 "cells": [
  {
   "cell_type": "code",
   "execution_count": 2,
   "id": "9a44f256",
   "metadata": {},
   "outputs": [
    {
     "name": "stdout",
     "output_type": "stream",
     "text": [
      "Collecting ipython-sql\n",
      "  Downloading ipython_sql-0.5.0-py3-none-any.whl (20 kB)\n",
      "Collecting sqlalchemy>=2.0\n",
      "  Downloading SQLAlchemy-2.0.36-cp39-cp39-win_amd64.whl (2.1 MB)\n",
      "     ---------------------------------------- 2.1/2.1 MB 33.0 MB/s eta 0:00:00\n",
      "Requirement already satisfied: ipython in c:\\users\\asus\\documents\\data_analysis\\python\\python_data_scienece_25hrs\\anaconda\\lib\\site-packages (from ipython-sql) (7.31.1)\n",
      "Requirement already satisfied: ipython-genutils in c:\\users\\asus\\documents\\data_analysis\\python\\python_data_scienece_25hrs\\anaconda\\lib\\site-packages (from ipython-sql) (0.2.0)\n",
      "Collecting prettytable\n",
      "  Downloading prettytable-3.12.0-py3-none-any.whl (31 kB)\n",
      "Collecting sqlparse\n",
      "  Downloading sqlparse-0.5.2-py3-none-any.whl (44 kB)\n",
      "     ---------------------------------------- 44.4/44.4 kB ? eta 0:00:00\n",
      "Requirement already satisfied: six in c:\\users\\asus\\documents\\data_analysis\\python\\python_data_scienece_25hrs\\anaconda\\lib\\site-packages (from ipython-sql) (1.16.0)\n",
      "Requirement already satisfied: greenlet!=0.4.17 in c:\\users\\asus\\documents\\data_analysis\\python\\python_data_scienece_25hrs\\anaconda\\lib\\site-packages (from sqlalchemy>=2.0->ipython-sql) (1.1.1)\n",
      "Collecting typing-extensions>=4.6.0\n",
      "  Downloading typing_extensions-4.12.2-py3-none-any.whl (37 kB)\n",
      "Requirement already satisfied: decorator in c:\\users\\asus\\documents\\data_analysis\\python\\python_data_scienece_25hrs\\anaconda\\lib\\site-packages (from ipython->ipython-sql) (5.1.1)\n",
      "Requirement already satisfied: traitlets>=4.2 in c:\\users\\asus\\documents\\data_analysis\\python\\python_data_scienece_25hrs\\anaconda\\lib\\site-packages (from ipython->ipython-sql) (5.1.1)\n",
      "Requirement already satisfied: setuptools>=18.5 in c:\\users\\asus\\documents\\data_analysis\\python\\python_data_scienece_25hrs\\anaconda\\lib\\site-packages (from ipython->ipython-sql) (63.4.1)\n",
      "Requirement already satisfied: colorama in c:\\users\\asus\\documents\\data_analysis\\python\\python_data_scienece_25hrs\\anaconda\\lib\\site-packages (from ipython->ipython-sql) (0.4.5)\n",
      "Requirement already satisfied: prompt-toolkit!=3.0.0,!=3.0.1,<3.1.0,>=2.0.0 in c:\\users\\asus\\documents\\data_analysis\\python\\python_data_scienece_25hrs\\anaconda\\lib\\site-packages (from ipython->ipython-sql) (3.0.20)\n",
      "Requirement already satisfied: pygments in c:\\users\\asus\\documents\\data_analysis\\python\\python_data_scienece_25hrs\\anaconda\\lib\\site-packages (from ipython->ipython-sql) (2.11.2)\n",
      "Requirement already satisfied: matplotlib-inline in c:\\users\\asus\\documents\\data_analysis\\python\\python_data_scienece_25hrs\\anaconda\\lib\\site-packages (from ipython->ipython-sql) (0.1.6)\n",
      "Requirement already satisfied: jedi>=0.16 in c:\\users\\asus\\documents\\data_analysis\\python\\python_data_scienece_25hrs\\anaconda\\lib\\site-packages (from ipython->ipython-sql) (0.18.1)\n",
      "Requirement already satisfied: pickleshare in c:\\users\\asus\\documents\\data_analysis\\python\\python_data_scienece_25hrs\\anaconda\\lib\\site-packages (from ipython->ipython-sql) (0.7.5)\n",
      "Requirement already satisfied: backcall in c:\\users\\asus\\documents\\data_analysis\\python\\python_data_scienece_25hrs\\anaconda\\lib\\site-packages (from ipython->ipython-sql) (0.2.0)\n",
      "Requirement already satisfied: wcwidth in c:\\users\\asus\\documents\\data_analysis\\python\\python_data_scienece_25hrs\\anaconda\\lib\\site-packages (from prettytable->ipython-sql) (0.2.5)\n",
      "Requirement already satisfied: parso<0.9.0,>=0.8.0 in c:\\users\\asus\\documents\\data_analysis\\python\\python_data_scienece_25hrs\\anaconda\\lib\\site-packages (from jedi>=0.16->ipython->ipython-sql) (0.8.3)\n",
      "Installing collected packages: typing-extensions, sqlparse, prettytable, sqlalchemy, ipython-sql\n",
      "  Attempting uninstall: typing-extensions\n",
      "    Found existing installation: typing_extensions 4.3.0\n",
      "    Uninstalling typing_extensions-4.3.0:\n",
      "      Successfully uninstalled typing_extensions-4.3.0\n",
      "  Attempting uninstall: sqlalchemy\n",
      "    Found existing installation: SQLAlchemy 1.4.39\n",
      "    Uninstalling SQLAlchemy-1.4.39:\n",
      "      Successfully uninstalled SQLAlchemy-1.4.39\n",
      "Successfully installed ipython-sql-0.5.0 prettytable-3.12.0 sqlalchemy-2.0.36 sqlparse-0.5.2 typing-extensions-4.12.2\n",
      "Note: you may need to restart the kernel to use updated packages.\n"
     ]
    }
   ],
   "source": [
    "pip install ipython-sql\n",
    "pip install psycopg2-binary sqlalchemy\n",
    "pip install pandas\n",
    "\n",
    "import pandas as pd\n",
    "import sqlite3"
   ]
  },
  {
   "cell_type": "code",
   "execution_count": 18,
   "id": "a1782b94",
   "metadata": {},
   "outputs": [],
   "source": [
    "# Load the CSV file into a Pandas DataFrame\n",
    "file_name = 'store_product_dataset.csv'  # Replace with your CSV file name\n",
    "df = pd.read_csv(file_name)\n",
    "\n",
    "# Connect to an in-memory SQLite database\n",
    "conn = sqlite3.connect(':memory:')\n",
    "\n",
    "# Load the DataFrame into the SQLite database\n",
    "df.to_sql('store_product_dataset', conn, index=False, if_exists='replace')\n"
   ]
  },
  {
   "cell_type": "code",
   "execution_count": 25,
   "id": "d5180b6a",
   "metadata": {},
   "outputs": [
    {
     "data": {
      "text/html": [
       "<div>\n",
       "<style scoped>\n",
       "    .dataframe tbody tr th:only-of-type {\n",
       "        vertical-align: middle;\n",
       "    }\n",
       "\n",
       "    .dataframe tbody tr th {\n",
       "        vertical-align: top;\n",
       "    }\n",
       "\n",
       "    .dataframe thead th {\n",
       "        text-align: right;\n",
       "    }\n",
       "</style>\n",
       "<table border=\"1\" class=\"dataframe\">\n",
       "  <thead>\n",
       "    <tr style=\"text-align: right;\">\n",
       "      <th></th>\n",
       "      <th>product_type</th>\n",
       "      <th>min_price</th>\n",
       "      <th>max_price</th>\n",
       "    </tr>\n",
       "  </thead>\n",
       "  <tbody>\n",
       "    <tr>\n",
       "      <th>0</th>\n",
       "      <td>Bakery</td>\n",
       "      <td>6.26</td>\n",
       "      <td>11.88</td>\n",
       "    </tr>\n",
       "    <tr>\n",
       "      <th>1</th>\n",
       "      <td>Dairy</td>\n",
       "      <td>8.33</td>\n",
       "      <td>13.97</td>\n",
       "    </tr>\n",
       "    <tr>\n",
       "      <th>2</th>\n",
       "      <td>Meat</td>\n",
       "      <td>11.48</td>\n",
       "      <td>16.98</td>\n",
       "    </tr>\n",
       "    <tr>\n",
       "      <th>3</th>\n",
       "      <td>Produce</td>\n",
       "      <td>3.46</td>\n",
       "      <td>8.78</td>\n",
       "    </tr>\n",
       "    <tr>\n",
       "      <th>4</th>\n",
       "      <td>Snacks</td>\n",
       "      <td>5.20</td>\n",
       "      <td>10.72</td>\n",
       "    </tr>\n",
       "  </tbody>\n",
       "</table>\n",
       "</div>"
      ],
      "text/plain": [
       "  product_type  min_price  max_price\n",
       "0       Bakery       6.26      11.88\n",
       "1        Dairy       8.33      13.97\n",
       "2         Meat      11.48      16.98\n",
       "3      Produce       3.46       8.78\n",
       "4       Snacks       5.20      10.72"
      ]
     },
     "execution_count": 25,
     "metadata": {},
     "output_type": "execute_result"
    }
   ],
   "source": [
    "# Query the table using SQL\n",
    "query = \"\"\"\n",
    "\n",
    "SELECT product_type, MIN(price) AS min_price, MAX(price) AS max_price\n",
    "FROM store_product_dataset\n",
    "GROUP BY product_type\n",
    "\n",
    "\"\"\"\n",
    "\n",
    "result = pd.read_sql(query, conn)\n",
    "result"
   ]
  },
  {
   "cell_type": "code",
   "execution_count": null,
   "id": "3770941f",
   "metadata": {},
   "outputs": [],
   "source": []
  }
 ],
 "metadata": {
  "kernelspec": {
   "display_name": "Python 3 (ipykernel)",
   "language": "python",
   "name": "python3"
  },
  "language_info": {
   "codemirror_mode": {
    "name": "ipython",
    "version": 3
   },
   "file_extension": ".py",
   "mimetype": "text/x-python",
   "name": "python",
   "nbconvert_exporter": "python",
   "pygments_lexer": "ipython3",
   "version": "3.9.13"
  }
 },
 "nbformat": 4,
 "nbformat_minor": 5
}
